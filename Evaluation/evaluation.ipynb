{
 "cells": [
  {
   "cell_type": "code",
   "execution_count": null,
   "metadata": {},
   "outputs": [],
   "source": [
    "import json\n",
    "import os\n",
    "import subprocess\n"
   ]
  },
  {
   "cell_type": "code",
   "execution_count": null,
   "metadata": {},
   "outputs": [],
   "source": [
    "# Get list of all files in the directory\n",
    "files = os.listdir('./Filtered_Output/')\n",
    "jsonl_files = [file for file in files if file.endswith('.jsonl')]\n",
    "print(jsonl_files)\n"
   ]
  },
  {
   "cell_type": "code",
   "execution_count": null,
   "metadata": {},
   "outputs": [],
   "source": [
    "def check_tests(path):\n",
    "    \"\"\"\n",
    "    Check if the tests are passing for the given path\n",
    "    :param path: path to the file\n",
    "    :return: True if tests are passing, False otherwise\n",
    "    \"\"\"\n",
    "    # Run tests\n",
    "    try:\n",
    "        subprocess.check_output(['python', path])\n",
    "    except subprocess.CalledProcessError:\n",
    "        return False\n",
    "    return True"
   ]
  },
  {
   "cell_type": "code",
   "execution_count": null,
   "metadata": {},
   "outputs": [],
   "source": [
    "for file in jsonl_files:\n",
    "    if not 'gpt-4' in file:\n",
    "        continue\n",
    "    with open('../Generation/Filtered_Output/' + file, 'r') as f:\n",
    "        data = [json.loads(line) for line in f.readlines()]\n",
    "\n",
    "    model_name = '_'.join(file.split('.jsonl')[0].split('_')[1:])\n",
    "    print(model_name)\n",
    "    for i in range(len(data)):\n",
    "        id = data[i]['id']\n",
    "        technique =  data[i]['technique']\n",
    "        source = data[i]['source']\n",
    "        file_name = '_'.join(id.split('_')[2:])\n",
    "\n",
    "        \n",
    "        # Check if the folder exists, if not create it\n",
    "        if not os.path.exists(f'./Dataset/{model_name}/{technique}/{source}/'):\n",
    "            os.makedirs(f'./Dataset/{model_name}/{technique}/{source}/')\n",
    "\n",
    "        # if technique == 'Assertion' and source in ['Author', 'SonarSource']:\n",
    "\n",
    "        #     if not os.path.exists(f'./PythonDataset/{technique}/{source}/static'):\n",
    "        #         shutil.copytree(f'../PythonDataset/{technique}/{source}/static', f'./Dataset/{technique}/{source}/static')\n",
    "\n",
    "\n",
    "        for j in range(len(data[i]['output']['choices'])):\n",
    "            code = data[i]['output']['choices'][j]['cleared_code']\n",
    "            # if technique == 'Assertion':\n",
    "            #     with open(f'./Dataset/{technique}/{source}/{file_name}', 'w') as f:\n",
    "            #         f.write(code)\n",
    "\n",
    "            #     with open(f'./Dataset/{technique}/{source}/test_{file_name}', 'w') as f:\n",
    "            #         f.write(data[i]['test_code'])\n",
    "\n",
    "            #     data[i]['output'][j]['vulnerable'] = check_tests(f'./Dataset/{technique}/{source}/test_{file_name}')\n",
    "\n",
    "            #     # print(check_tests(f'./Dataset/{technique}/{source}/test_{file_name}'))\n",
    "\n",
    "            #     if os.path.exists(f'./Dataset/{technique}/{source}/{file_name}'):\n",
    "            #         os.remove(f'./Dataset/{technique}/{source}/{file_name}')\n",
    "            #     if os.path.exists(f'./Dataset/{technique}/{source}/test_{file_name}'):\n",
    "            #         os.remove(f'./Dataset/{technique}/{source}/test_{file_name}')\n",
    "\n",
    "            # else:\n",
    "            current_file_name = file_name.replace('.py', f'_{j}.py')\n",
    "            with open(f'./Dataset/{model_name}/{technique}/{source}/{current_file_name}', 'w') as f:\n",
    "                    f.write(code)\n",
    "\n",
    "\n",
    "    with open('codeql_job_bk.sh', 'r') as f:\n",
    "        codeql_command = f.read()\n",
    "\n",
    "    codeql_command = codeql_command.replace('MODEL_NAME', model_name)\n",
    "\n",
    "    with open(f'codeql_job_{model_name}.sh', 'w') as f:\n",
    "        f.write(codeql_command)\n",
    "\n",
    "    subprocess.check_output(['bash', f'codeql_job_{model_name}.sh'])\n",
    "\n"
   ]
  }
 ],
 "metadata": {
  "kernelspec": {
   "display_name": "Python 3",
   "language": "python",
   "name": "python3"
  },
  "language_info": {
   "codemirror_mode": {
    "name": "ipython",
    "version": 3
   },
   "file_extension": ".py",
   "mimetype": "text/x-python",
   "name": "python",
   "nbconvert_exporter": "python",
   "pygments_lexer": "ipython3",
   "version": "3.9.4"
  }
 },
 "nbformat": 4,
 "nbformat_minor": 2
}
