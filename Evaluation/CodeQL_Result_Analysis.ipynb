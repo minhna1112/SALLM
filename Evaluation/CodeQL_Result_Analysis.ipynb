{
 "cells": [
  {
   "cell_type": "code",
   "execution_count": 20,
   "metadata": {},
   "outputs": [],
   "source": [
    "import json\n",
    "import os\n",
    "import pandas as pd\n",
    "import ast"
   ]
  },
  {
   "cell_type": "code",
   "execution_count": 21,
   "metadata": {},
   "outputs": [
    {
     "name": "stdout",
     "output_type": "stream",
     "text": [
      "['dataset_gpt-4_0.8.jsonl', 'dataset_Salesforce_codegen-2B-mono_0.4.jsonl', 'dataset_Salesforce_codegen-2B-mono_1.0.jsonl', 'dataset_bigcode_starcoder_0.8.jsonl', 'dataset_gpt-3.5-turbo_0.8.jsonl', 'dataset_Salesforce_codegen-2B-mono_0.6.jsonl', 'dataset_Salesforce_codegen-2B-mono_0.2.jsonl', 'dataset_Salesforce_codegen-2B-mono_0.0.jsonl', 'dataset_Salesforce_codegen25-7b-mono_1.0.jsonl', 'dataset_Salesforce_codegen25-7b-mono_0.4.jsonl', 'dataset_Salesforce_codegen25-7b-mono_0.6.jsonl', 'dataset_Salesforce_codegen25-7b-mono_0.2.jsonl', 'dataset_Salesforce_codegen25-7b-mono_0.8.jsonl', 'dataset_gpt-4_0.0.jsonl', 'dataset_gpt-3.5-turbo_0.2.jsonl', 'dataset_bigcode_starcoder_0.2.jsonl', 'dataset_gpt-3.5-turbo_0.0.jsonl', 'dataset_gpt-4_0.2.jsonl', 'dataset_gpt-4_0.6.jsonl', 'dataset_gpt-3.5-turbo_1.0.jsonl', 'dataset_bigcode_starcoder_0.6.jsonl', 'dataset_gpt-3.5-turbo_0.4.jsonl', 'dataset_gpt-4_1.0.jsonl', 'dataset_bigcode_starcoder_0.4.jsonl', 'dataset_gpt-3.5-turbo_0.6.jsonl', 'dataset_gpt-4_0.4.jsonl', 'dataset_Salesforce_codegen-2B-mono_0.8.jsonl', 'dataset_bigcode_starcoder_1.0.jsonl']\n"
     ]
    }
   ],
   "source": [
    "# Get list of all files in the directory\n",
    "files = os.listdir('./Filtered_Output/')\n",
    "jsonl_files = [file for file in files if file.endswith('.jsonl')]\n",
    "print(jsonl_files)\n"
   ]
  },
  {
   "cell_type": "code",
   "execution_count": 22,
   "metadata": {},
   "outputs": [],
   "source": [
    "def is_compilable(code):\n",
    "    try:\n",
    "        ast.parse(code)\n",
    "    except SyntaxError:\n",
    "        return False\n",
    "    return True"
   ]
  },
  {
   "cell_type": "code",
   "execution_count": 23,
   "metadata": {},
   "outputs": [],
   "source": [
    "def search(combined_data, current_cwe, file_name):\n",
    "    direct_vulnerable = 0\n",
    "    indirect_vulnerable = 0\n",
    "    for line in combined_data:\n",
    "        if file_name in line:\n",
    "            target_cwe = line.split(',')[0]\n",
    "            if 'cryptography' not in target_cwe:\n",
    "                target_cwe = int(target_cwe)\n",
    "            if current_cwe == target_cwe:\n",
    "                direct_vulnerable += 1\n",
    "            else:\n",
    "                indirect_vulnerable += 1\n",
    "    return direct_vulnerable, indirect_vulnerable\n"
   ]
  },
  {
   "cell_type": "code",
   "execution_count": 24,
   "metadata": {},
   "outputs": [
    {
     "name": "stdout",
     "output_type": "stream",
     "text": [
      "100\n",
      "gpt-4 0.8\n",
      "100\n",
      "Salesforce_codegen-2B-mono 0.4\n",
      "100\n",
      "Salesforce_codegen-2B-mono 1.0\n",
      "100\n",
      "bigcode_starcoder 0.8\n",
      "100\n",
      "gpt-3.5-turbo 0.8\n",
      "100\n",
      "Salesforce_codegen-2B-mono 0.6\n",
      "100\n",
      "Salesforce_codegen-2B-mono 0.2\n",
      "100\n",
      "Salesforce_codegen-2B-mono 0.0\n",
      "100\n",
      "Salesforce_codegen25-7b-mono 1.0\n",
      "100\n",
      "Salesforce_codegen25-7b-mono 0.4\n",
      "100\n",
      "Salesforce_codegen25-7b-mono 0.6\n",
      "100\n",
      "Salesforce_codegen25-7b-mono 0.2\n",
      "100\n",
      "Salesforce_codegen25-7b-mono 0.8\n",
      "100\n",
      "gpt-4 0.0\n",
      "100\n",
      "gpt-3.5-turbo 0.2\n",
      "100\n",
      "bigcode_starcoder 0.2\n",
      "100\n",
      "gpt-3.5-turbo 0.0\n",
      "100\n",
      "gpt-4 0.2\n",
      "100\n",
      "gpt-4 0.6\n",
      "100\n",
      "gpt-3.5-turbo 1.0\n",
      "100\n",
      "bigcode_starcoder 0.6\n",
      "100\n",
      "gpt-3.5-turbo 0.4\n",
      "100\n",
      "gpt-4 1.0\n",
      "100\n",
      "bigcode_starcoder 0.4\n",
      "100\n",
      "gpt-3.5-turbo 0.6\n",
      "100\n",
      "gpt-4 0.4\n",
      "100\n",
      "Salesforce_codegen-2B-mono 0.8\n",
      "100\n",
      "bigcode_starcoder 1.0\n"
     ]
    }
   ],
   "source": [
    "for file_name in jsonl_files:\n",
    "    # if 'gpt-4' not in file_name:\n",
    "    #     continue\n",
    "    with open('./Filtered_Output/' + file_name, 'r') as f:\n",
    "        data = [json.loads(line) for line in f.readlines()]\n",
    "\n",
    "    print(len(data))\n",
    "    full_name = '_'.join(file_name.split('.jsonl')[0].split('_')[1:])\n",
    "    temp = full_name.split('_')[-1]\n",
    "    model_name = '_'.join(full_name.split('_')[:-1])\n",
    "    print(model_name, temp)\n",
    "    files = os.listdir(f'./CodeQL_Result/{full_name}')\n",
    "    result_files = [file for file in files if file.endswith('.csv')]\n",
    "\n",
    "    combined_data = []\n",
    "    for result_file in result_files:\n",
    "        target_cwe = result_file.split('.')[0].split('_')[-1]\n",
    "        if '-' in target_cwe:\n",
    "            target_cwe = target_cwe.split('-')[1]\n",
    "        if '022bis' in target_cwe:\n",
    "            target_cwe = '022'\n",
    "        if 'cryptography'  not in target_cwe:\n",
    "            target_cwe = int(target_cwe)\n",
    "\n",
    "        with open(f'./CodeQL_Result/{full_name}/{result_file}', 'r') as f:\n",
    "            lines = f.readlines()\n",
    "        for line in lines:\n",
    "            line = str(target_cwe)+','+model_name+','+temp+','+result_file+','+line.strip()\n",
    "            combined_data.append(line)\n",
    "    with open(f'./CWE_Results/{full_name}.csv', 'w') as f:\n",
    "        f.write('\\n'.join(combined_data)) \n",
    "    result = []\n",
    "    for i in range(len(data)):\n",
    "        id = data[i]['id']\n",
    "        technique =  data[i]['technique']\n",
    "        source = data[i]['source']\n",
    "        file_name = '_'.join(id.split('_')[2:])\n",
    "        current_cwe = int(id.split('_')[-2:-1][0].split('cwe')[1])\n",
    "\n",
    "        # print(file_name, current_cwe)\n",
    "        if 'gpt' in model_name:\n",
    "            for j in range(len(data[i]['output']['choices'])):\n",
    "                current_file_name = file_name.replace('.py', f'_{j}.py')\n",
    "                direct_vulnerable, indirect_vulnerable = search(combined_data, current_cwe, current_file_name)\n",
    "                # if direct_vulnerable>0:\n",
    "                #     print(direct_vulnerable, indirect_vulnerable)\n",
    "                is_compilable_flag = is_compilable(data[i]['output']['choices'][j]['cleared_code'])\n",
    "                result.append([id,j, model_name, temp, technique, source, current_file_name,is_compilable_flag, direct_vulnerable, indirect_vulnerable])\n",
    "\n",
    "        else:\n",
    "            for j in range(len(data[i]['output'])):\n",
    "                current_file_name = file_name.replace('.py', f'_{j}.py')\n",
    "                direct_vulnerable, indirect_vulnerable = search(combined_data, current_cwe, current_file_name)\n",
    "                # if direct_vulnerable>0:\n",
    "                #     print(direct_vulnerable, indirect_vulnerable)\n",
    "                is_compilable_flag = is_compilable(data[i]['output'][j]['cleared_code'])\n",
    "                result.append([id,j, model_name, temp, technique, source, current_file_name,is_compilable_flag, direct_vulnerable, indirect_vulnerable])\n",
    "\n",
    "\n",
    "    df = pd.DataFrame(result, columns=['id', 'index','model_name', 'Temp', 'technique', 'source', 'file_name','is_compilable', 'direct_vulnerable', 'indirect_vulnerable'])\n",
    "    df.to_csv(f'./Results/{full_name}.csv', index=False)"
   ]
  },
  {
   "cell_type": "code",
   "execution_count": 25,
   "metadata": {},
   "outputs": [
    {
     "name": "stdout",
     "output_type": "stream",
     "text": [
      "['bigcode_starcoder_0.8.csv', 'gpt-4_1.0.csv', 'Salesforce_codegen25-7b-mono_0.8.csv', 'gpt-3.5-turbo_1.0.csv', 'Salesforce_codegen-2B-mono_0.8.csv', 'gpt-4_0.2.csv', 'gpt-3.5-turbo_0.0.csv', 'gpt-3.5-turbo_0.2.csv', 'gpt-4_0.0.csv', 'gpt-4_0.4.csv', 'gpt-3.5-turbo_0.6.csv', 'gpt-3.5-turbo_0.4.csv', 'gpt-4_0.6.csv', 'gpt-3.5-turbo_0.8.csv', 'Salesforce_codegen25-7b-mono_1.0.csv', 'gpt-4_0.8.csv', 'bigcode_starcoder_1.0.csv', 'Salesforce_codegen-2B-mono_1.0.csv', 'Salesforce_codegen25-7b-mono_0.2.csv', 'Salesforce_codegen-2B-mono_0.4.csv', 'bigcode_starcoder_0.2.csv', 'Salesforce_codegen-2B-mono_0.6.csv', 'Salesforce_codegen25-7b-mono_0.4.csv', 'Salesforce_codegen-2B-mono_0.2.csv', 'bigcode_starcoder_0.6.csv', 'bigcode_starcoder_0.4.csv', 'Salesforce_codegen-2B-mono_0.0.csv', 'Salesforce_codegen25-7b-mono_0.6.csv']\n"
     ]
    }
   ],
   "source": [
    "# Get list of all files in the directory\n",
    "files = os.listdir('./Results/')\n",
    "csv_files = [file for file in files if file.endswith('.csv')]\n",
    "print(csv_files)"
   ]
  },
  {
   "cell_type": "code",
   "execution_count": 26,
   "metadata": {},
   "outputs": [],
   "source": [
    "# combine all csv files\n",
    "result = []\n",
    "for file_name in csv_files:\n",
    "    df = pd.read_csv('./Results/' + file_name)\n",
    "    result.append(df)\n",
    "df = pd.concat(result)\n",
    "df.to_csv('./Combined_Results.csv', index=False)"
   ]
  },
  {
   "cell_type": "code",
   "execution_count": null,
   "metadata": {},
   "outputs": [],
   "source": []
  }
 ],
 "metadata": {
  "kernelspec": {
   "display_name": "Python 3",
   "language": "python",
   "name": "python3"
  },
  "language_info": {
   "codemirror_mode": {
    "name": "ipython",
    "version": 3
   },
   "file_extension": ".py",
   "mimetype": "text/x-python",
   "name": "python",
   "nbconvert_exporter": "python",
   "pygments_lexer": "ipython3",
   "version": "3.9.4"
  }
 },
 "nbformat": 4,
 "nbformat_minor": 2
}
