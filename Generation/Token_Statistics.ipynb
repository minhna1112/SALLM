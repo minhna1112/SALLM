{
 "cells": [
  {
   "cell_type": "code",
   "execution_count": 20,
   "metadata": {},
   "outputs": [],
   "source": [
    "import json\n",
    "from tqdm import tqdm"
   ]
  },
  {
   "cell_type": "code",
   "execution_count": 21,
   "metadata": {},
   "outputs": [],
   "source": [
    "import torch\n",
    "from transformers import AutoTokenizer, AutoModelForCausalLM\n",
    "# torch.set_default_device('cuda')"
   ]
  },
  {
   "cell_type": "code",
   "execution_count": 22,
   "metadata": {},
   "outputs": [
    {
     "name": "stderr",
     "output_type": "stream",
     "text": [
      "Special tokens have been added in the vocabulary, make sure the associated word embeddings are fine-tuned or trained.\n"
     ]
    }
   ],
   "source": [
    "tokenizer = AutoTokenizer.from_pretrained(\"Salesforce/codegen-350M-mono\")\n",
    "inputs = tokenizer(\"# this function prints hello world\", return_tensors=\"pt\")"
   ]
  },
  {
   "cell_type": "code",
   "execution_count": 23,
   "metadata": {},
   "outputs": [
    {
     "data": {
      "text/plain": [
       "100"
      ]
     },
     "execution_count": 23,
     "metadata": {},
     "output_type": "execute_result"
    }
   ],
   "source": [
    "with open('../PythonDataset/dataset.jsonl', 'r') as f:\n",
    "    data = f.readlines()\n",
    "\n",
    "len(data)"
   ]
  },
  {
   "cell_type": "code",
   "execution_count": 24,
   "metadata": {},
   "outputs": [],
   "source": [
    "import numpy as np"
   ]
  },
  {
   "cell_type": "code",
   "execution_count": 25,
   "metadata": {},
   "outputs": [
    {
     "name": "stderr",
     "output_type": "stream",
     "text": [
      "100%|██████████| 100/100 [00:00<00:00, 522.55it/s]\n"
     ]
    },
    {
     "name": "stdout",
     "output_type": "stream",
     "text": [
      "Prompt size: \n",
      "Mean:  106.06\n",
      "Min 29\n",
      "Max 437\n",
      "25th percentile 72.0\n",
      "50th percentile 86.0\n",
      "75th percentile 105.25\n",
      "Solution size: \n",
      "Mean:  160.1\n",
      "Min 57\n",
      "Max 577\n",
      "25th percentile 105.0\n",
      "50th percentile 134.0\n",
      "75th percentile 162.0\n",
      "New tokens: \n",
      "Mean:  54.04\n",
      "Min 12\n",
      "Max 245\n",
      "25th percentile 30.0\n",
      "50th percentile 45.0\n",
      "75th percentile 61.0\n"
     ]
    }
   ],
   "source": [
    "prompt_size = []\n",
    "solution_size = []\n",
    "newtokens = []\n",
    "\n",
    "for i in tqdm(range(len(data))):\n",
    "    d = json.loads(data[i])\n",
    "    prompt = d['prompt']\n",
    "    solution = d['insecure_code']\n",
    "    len_prompt = tokenizer(prompt, return_tensors=\"pt\").input_ids.shape[1]\n",
    "    len_solution = tokenizer(solution, return_tensors=\"pt\").input_ids.shape[1]\n",
    "    \n",
    "    prompt_size.append(len_prompt)\n",
    "    solution_size.append(len_solution)\n",
    "    newtokens.append(len_solution - len_prompt)\n",
    "\n",
    "prompt_size = np.array(prompt_size)\n",
    "solution_size = np.array(solution_size)\n",
    "newtokens = np.array(newtokens)\n",
    "\n",
    "print('Prompt size: ')\n",
    "print('Mean: ', prompt_size.mean())\n",
    "print('Min', prompt_size.min())\n",
    "print('Max', prompt_size.max())\n",
    "print('25th percentile', np.percentile(prompt_size, 25))\n",
    "print('50th percentile', np.percentile(prompt_size, 50))\n",
    "print('75th percentile', np.percentile(prompt_size, 75))\n",
    "\n",
    "print('Solution size: ')\n",
    "print('Mean: ', solution_size.mean())\n",
    "print('Min', solution_size.min())\n",
    "print('Max', solution_size.max())\n",
    "print('25th percentile', np.percentile(solution_size, 25))\n",
    "print('50th percentile', np.percentile(solution_size, 50))\n",
    "print('75th percentile', np.percentile(solution_size, 75))\n",
    "\n",
    "print('New tokens: ')\n",
    "print('Mean: ', newtokens.mean())\n",
    "print('Min', newtokens.min())\n",
    "print('Max', newtokens.max())\n",
    "print('25th percentile', np.percentile(newtokens, 25))\n",
    "print('50th percentile', np.percentile(newtokens, 50))\n",
    "print('75th percentile', np.percentile(newtokens, 75))"
   ]
  },
  {
   "cell_type": "code",
   "execution_count": null,
   "metadata": {},
   "outputs": [],
   "source": []
  }
 ],
 "metadata": {
  "kernelspec": {
   "display_name": "Python 3",
   "language": "python",
   "name": "python3"
  },
  "language_info": {
   "codemirror_mode": {
    "name": "ipython",
    "version": 3
   },
   "file_extension": ".py",
   "mimetype": "text/x-python",
   "name": "python",
   "nbconvert_exporter": "python",
   "pygments_lexer": "ipython3",
   "version": "3.9.4"
  }
 },
 "nbformat": 4,
 "nbformat_minor": 2
}
