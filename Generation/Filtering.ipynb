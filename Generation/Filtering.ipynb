{
 "cells": [
  {
   "cell_type": "code",
   "execution_count": 15,
   "metadata": {},
   "outputs": [],
   "source": [
    "import json\n",
    "import os\n",
    "import ast"
   ]
  },
  {
   "cell_type": "code",
   "execution_count": 16,
   "metadata": {},
   "outputs": [
    {
     "name": "stdout",
     "output_type": "stream",
     "text": [
      "['dataset_gpt-4_0.8.jsonl', 'dataset_Salesforce_codegen-2B-mono_0.4.jsonl', 'dataset_Salesforce_codegen-2B-mono_1.0.jsonl', 'dataset_bigcode_starcoder_0.8.jsonl', 'dataset_gpt-3.5-turbo_0.8.jsonl', 'dataset_Salesforce_codegen-2B-mono_0.6.jsonl', 'dataset_Salesforce_codegen-2B-mono_0.2.jsonl', 'dataset_Salesforce_codegen-2B-mono_0.0.jsonl', 'dataset_Salesforce_codegen25-7b-mono_1.0.jsonl', 'dataset_Salesforce_codegen25-7b-mono_0.4.jsonl', 'dataset_Salesforce_codegen25-7b-mono_0.6.jsonl', 'dataset_Salesforce_codegen25-7b-mono_0.2.jsonl', 'dataset_Salesforce_codegen25-7b-mono_0.8.jsonl', 'dataset_gpt-4_0.0.jsonl', 'dataset_gpt-3.5-turbo_0.2.jsonl', 'dataset_bigcode_starcoder_0.2.jsonl', 'dataset_gpt-3.5-turbo_0.0.jsonl', 'dataset_gpt-4_0.2.jsonl', 'dataset_gpt-4_0.6.jsonl', 'dataset_gpt-3.5-turbo_1.0.jsonl', 'dataset_bigcode_starcoder_0.6.jsonl', 'dataset_gpt-3.5-turbo_0.4.jsonl', 'dataset_gpt-4_1.0.jsonl', 'dataset_bigcode_starcoder_0.4.jsonl', 'dataset_gpt-3.5-turbo_0.6.jsonl', 'dataset_gpt-4_0.4.jsonl', 'dataset_Salesforce_codegen-2B-mono_0.8.jsonl', 'dataset_bigcode_starcoder_1.0.jsonl']\n"
     ]
    }
   ],
   "source": [
    "# Get list of all files in the directory\n",
    "files = os.listdir('./Output/')\n",
    "jsonl_files = [file for file in files if file.endswith('.jsonl')]\n",
    "print(jsonl_files)\n"
   ]
  },
  {
   "cell_type": "code",
   "execution_count": 17,
   "metadata": {},
   "outputs": [],
   "source": [
    "split_tokens = ['\\ndef', '\\nif', '\\n@app', \"\\n'''\", '\\nclass',\"if __name__ == '__main__':\", 'if __name__ == \"__main__\":']"
   ]
  },
  {
   "cell_type": "code",
   "execution_count": 18,
   "metadata": {},
   "outputs": [],
   "source": [
    "def clear_generated_code(data, item, isGPT3=False):\n",
    "    data = data.split('<|endoftext|>')[0]   \n",
    "    \n",
    "    prompt = item['prompt']\n",
    "    if isGPT3:\n",
    "        lines = data.split('\\n')\n",
    "        new_data = ''\n",
    "        found = False\n",
    "        for line in lines:\n",
    "            if not line.startswith(' '):\n",
    "                line = '    '+line\n",
    "            # elif found and line.startswith(' '):\n",
    "            #     line = '    '+line\n",
    "            new_data += line+'\\n'\n",
    "        data = prompt+'\\n'+new_data\n",
    "    if prompt in data:\n",
    "        # print('Prompt found')\n",
    "        \n",
    "        data = data.split(prompt)[1]\n",
    "        for token in split_tokens:\n",
    "            if token in data:\n",
    "                data = data.split(token)[0]\n",
    "        return prompt +'\\n'+ data\n",
    "    else:\n",
    "        # print(item['id'])\n",
    "        # print('Prompt not found')\n",
    "        return data\n"
   ]
  },
  {
   "cell_type": "code",
   "execution_count": 19,
   "metadata": {},
   "outputs": [],
   "source": [
    "def check_compilable(data):\n",
    "    try:\n",
    "        ast.parse(data)\n",
    "        return True\n",
    "    except:\n",
    "        return False"
   ]
  },
  {
   "cell_type": "code",
   "execution_count": 20,
   "metadata": {},
   "outputs": [],
   "source": [
    "for file in jsonl_files:\n",
    "    with open(f'./Output/{file}', 'r') as f:\n",
    "        data = [json.loads(line) for line in f]\n",
    "\n",
    "    if 'gpt' in file:\n",
    "        continue\n",
    "    for i in range(len(data)):\n",
    "\n",
    "        id = data[i]['id']\n",
    "        # if 'Assertion_Author_A_cwe434_0.py' not in id:\n",
    "        #     continue\n",
    "        technique =  data[i]['technique']\n",
    "        source = data[i]['source']\n",
    "        file_name = '_'.join(id.split('_')[2:])\n",
    "        # Check if the folder exists, if not create it\n",
    "        # if not os.path.exists(f'./Filtered_Output/{technique}/{source}/'):\n",
    "        #     os.makedirs(f'./Filtered_Output/{technique}/{source}/')\n",
    "\n",
    "\n",
    "\n",
    "        for j in range(len(data[i]['output'])):\n",
    "            code = data[i]['output'][j]['text']\n",
    "            # print('Main code:')\n",
    "            # print(code)\n",
    "            code = clear_generated_code(code, data[i])\n",
    "            # print('Cleared code:')\n",
    "            # print(code)\n",
    "            data[i]['output'][j]['cleared_code'] = code\n",
    "            data[i]['output'][j]['compilable'] = check_compilable(code)\n",
    "            \n",
    "\n",
    "\n",
    "            # with open(f'./Filtered_Output/{technique}/{source}/{file_name}', 'w') as f:\n",
    "            #     f.write(code + '\\n')\n",
    "\n",
    "    with open(f'./Filtered_Output/{file}', 'w') as f:\n",
    "        for item in data:\n",
    "            f.write(json.dumps(item) + '\\n')\n",
    "    "
   ]
  },
  {
   "cell_type": "code",
   "execution_count": 21,
   "metadata": {},
   "outputs": [
    {
     "name": "stdout",
     "output_type": "stream",
     "text": [
      "dataset_gpt-4_0.8.jsonl\n",
      "dataset_gpt-4_0.0.jsonl\n",
      "dataset_gpt-4_0.2.jsonl\n",
      "dataset_gpt-4_0.6.jsonl\n",
      "dataset_gpt-4_1.0.jsonl\n",
      "dataset_gpt-4_0.4.jsonl\n"
     ]
    }
   ],
   "source": [
    "for file in jsonl_files:\n",
    "    with open(f'./Output/{file}', 'r') as f:\n",
    "        data = [json.loads(line) for line in f]\n",
    "\n",
    "    if 'gpt-4' not in file:\n",
    "        continue\n",
    "    print(file)\n",
    "    for i in range(len(data)):\n",
    "\n",
    "        id = data[i]['id']\n",
    "        # print(id)\n",
    "        # if 'Assertion_Author_A_cwe434_0.py' not in id:\n",
    "        #     continue\n",
    "        technique =  data[i]['technique']\n",
    "        source = data[i]['source']\n",
    "        file_name = '_'.join(id.split('_')[2:])\n",
    "        # Check if the folder exists, if not create it\n",
    "        # if not os.path.exists(f'./Filtered_Output/{technique}/{source}/'):\n",
    "        #     os.makedirs(f'./Filtered_Output/{technique}/{source}/')\n",
    "        for j in range(len(data[i]['output']['choices'])):\n",
    "            code = data[i]['output']['choices'][j]['message']['content']\n",
    "\n",
    "            # print('Main code:')\n",
    "            # print(code)\n",
    "            code = clear_generated_code(code, data[i], True)\n",
    "            # print('Cleared code:')\n",
    "            # print(code)\n",
    "            data[i]['output']['choices'][j]['cleared_code'] = code\n",
    "            data[i]['output']['choices'][j]['compilable'] = check_compilable(code)\n",
    "            \n",
    "\n",
    "\n",
    "            # with open(f'./Filtered_Output/{technique}/{source}/{file_name}', 'w') as f:\n",
    "            #     f.write(code + '\\n')\n",
    "\n",
    "    with open(f'./Filtered_Output/{file}', 'w') as f:\n",
    "        for item in data:\n",
    "            f.write(json.dumps(item) + '\\n')\n",
    "\n"
   ]
  },
  {
   "cell_type": "code",
   "execution_count": null,
   "metadata": {},
   "outputs": [],
   "source": []
  }
 ],
 "metadata": {
  "kernelspec": {
   "display_name": "Python 3",
   "language": "python",
   "name": "python3"
  },
  "language_info": {
   "codemirror_mode": {
    "name": "ipython",
    "version": 3
   },
   "file_extension": ".py",
   "mimetype": "text/x-python",
   "name": "python",
   "nbconvert_exporter": "python",
   "pygments_lexer": "ipython3",
   "version": "3.9.4"
  }
 },
 "nbformat": 4,
 "nbformat_minor": 2
}
